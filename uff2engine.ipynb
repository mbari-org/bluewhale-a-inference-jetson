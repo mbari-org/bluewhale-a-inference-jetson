{
 "cells": [
  {
   "cell_type": "markdown",
   "metadata": {},
   "source": [
    "# **PB to UFF conversion**\n",
    " **Code referenced from https://devblogs.nvidia.com/tensorrt-3-faster-tensorflow-inference/ and https://docs.nvidia.com/deeplearning/sdk/tensorrt-developer-guide/index.html#import_model_python**"
   ]
  },
  {
   "cell_type": "code",
   "execution_count": 6,
   "metadata": {},
   "outputs": [],
   "source": [
    "# Import TensorRT models\n",
    "import tensorrt as trt\n",
    "TRT_LOGGER = trt.Logger(trt.Logger.WARNING)\n",
    "max_batch_size = 4"
   ]
  },
  {
   "cell_type": "code",
   "execution_count": 7,
   "metadata": {},
   "outputs": [],
   "source": [
    "model_file = 'model/blueA_VGG16.uff'"
   ]
  },
  {
   "cell_type": "code",
   "execution_count": 8,
   "metadata": {},
   "outputs": [
    {
     "data": {
      "text/plain": [
       "True"
      ]
     },
     "execution_count": 8,
     "metadata": {},
     "output_type": "execute_result"
    }
   ],
   "source": [
    "builder = trt.Builder(TRT_LOGGER)\n",
    "network = builder.create_network()\n",
    "parser = trt.UffParser()\n",
    "parser.register_input(\"vgg16_input\", (3, 224, 224))\n",
    "parser.register_output(\"dense/Softmax\")\n",
    "parser.parse(model_file, network)\n",
    "# must print True"
   ]
  },
  {
   "cell_type": "code",
   "execution_count": 9,
   "metadata": {},
   "outputs": [],
   "source": [
    "builder.max_batch_size = max_batch_size\n",
    "builder.max_workspace_size = 10\n",
    "config = builder.create_builder_config()"
   ]
  },
  {
   "cell_type": "code",
   "execution_count": 10,
   "metadata": {},
   "outputs": [],
   "source": [
    "engine = builder.build_engine(network,config)\n",
    "\n",
    "with open(\"model/blueA_VGG16.engine\", \"wb\") as f:\n",
    "    f.write(engine.serialize())\n"
   ]
  }
 ],
 "metadata": {
  "kernelspec": {
   "display_name": "blueA_infer_kernel",
   "language": "python",
   "name": "bluea_infer_kernel"
  },
  "language_info": {
   "codemirror_mode": {
    "name": "ipython",
    "version": 3
   },
   "file_extension": ".py",
   "mimetype": "text/x-python",
   "name": "python",
   "nbconvert_exporter": "python",
   "pygments_lexer": "ipython3",
   "version": "3.6.9"
  }
 },
 "nbformat": 4,
 "nbformat_minor": 2
}
